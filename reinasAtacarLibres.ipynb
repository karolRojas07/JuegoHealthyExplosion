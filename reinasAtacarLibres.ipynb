{
  "nbformat": 4,
  "nbformat_minor": 0,
  "metadata": {
    "colab": {
      "name": "reinasAtacarLibres.ipynb",
      "provenance": [],
      "collapsed_sections": [],
      "authorship_tag": "ABX9TyPNgUChA+cle+WINfU05dNP",
      "include_colab_link": true
    },
    "kernelspec": {
      "name": "python3",
      "display_name": "Python 3"
    },
    "language_info": {
      "name": "python"
    }
  },
  "cells": [
    {
      "cell_type": "markdown",
      "metadata": {
        "id": "view-in-github",
        "colab_type": "text"
      },
      "source": [
        "<a href=\"https://colab.research.google.com/github/karolrojasb/JuegoHealthyExplosion/blob/master/reinasAtacarLibres.ipynb\" target=\"_parent\"><img src=\"https://colab.research.google.com/assets/colab-badge.svg\" alt=\"Open In Colab\"/></a>"
      ]
    },
    {
      "cell_type": "markdown",
      "metadata": {
        "id": "2kKU-SYzVHVZ"
      },
      "source": [
        "**ME HACE FALTA HACER EL MARCAR ATAQUES Y HACER UN CONTADOR DE SOLUCIONES GLOBAL**"
      ]
    },
    {
      "cell_type": "code",
      "metadata": {
        "id": "Ct8s6dGBhME_"
      },
      "source": [
        "import numpy as np"
      ],
      "execution_count": 95,
      "outputs": []
    },
    {
      "cell_type": "code",
      "metadata": {
        "id": "x9yHnKIM79Lj"
      },
      "source": [
        "def marcarAtaques(tablero):\n",
        "  n = tablero.shape[0]\n",
        "  contadorReinas = 0\n",
        "  for filaR in range(n):\n",
        "    for columnaR in range(n):\n",
        "      if contadorReinas == n+1:\n",
        "        return\n",
        "      if tablero[filaR][columnaR] == 2:\n",
        "        contadorReinas = contadorReinas+1\n",
        "        for i in range(n):\n",
        "          # Marcar ataques horizontales\n",
        "          if tablero[filaR][i]==0:\n",
        "            tablero[filaR][i]=1\n",
        "          # Marcar ataques verticales\n",
        "          if tablero[i][columnaR]==0:\n",
        "            tablero[i][columnaR]=1\n",
        "          # Marcar Ataques diagonales:\n",
        "          if i==filaR:\n",
        "            continue\n",
        "          # Diagonal derecha (con pendiente negativa)\n",
        "          columna = columnaR - filaR + i\n",
        "          if (columna>=0) and (columna)<n:\n",
        "            if tablero[i][columna]==0:\n",
        "              tablero[i][columna] = 1\n",
        "          # Diagonal izquierda (con pendiente positiva)\n",
        "          columna = columnaR + filaR - i\n",
        "          if (columna>=0) and (columna)<n:\n",
        "            if tablero[i][columna]==0:\n",
        "              tablero[i][columna] = 1"
      ],
      "execution_count": 96,
      "outputs": []
    },
    {
      "cell_type": "code",
      "metadata": {
        "id": "m8chCM-UMam8"
      },
      "source": [
        "def colocarReina(tablero,filaRA,columnaRA, contadorReinas):\n",
        "  exito = False # Bandera para indicar si se debe verificar el tablero\n",
        "  inicio = filaRA  # variable para indicar el índice de FILA en el que se va ubicar la reina\n",
        "  n = tablero.shape[0] # Obtener la dimensión del tablero\n",
        "  # Si la reina anterior se puso en la última columna de una fila,\n",
        "  # entonces, la nueva reina se va empezar a ubicar en la fila siguiente\n",
        "  if columnaRA == n-1: # n-1 = el último índice de la columna \n",
        "    inicio = inicio + 1\n",
        "  # Si la última reina era la última de el máximo de reinas,\n",
        "  # entonces, todas las reinas se han ubicado y se debe verificar el tablero recibido\n",
        "  if (contadorReinas == n+1): #n+1 = el máximo de reinas que se deben ubicar\n",
        "    exito = True   \n",
        "  # Si se ha ubicado la primera reina en la posición: penúltima fila con última columna (n-2 , n-1), \n",
        "  # quiere decir, que el resto de las reinas deben ubicarse de manera seguida, \n",
        "  # ya que de lo contrario no habrían más casillas dónde ubicarlas\n",
        "  if (contadorReinas==1 and filaRA >= n-2 and columnaRA >= n-1):\n",
        "    for j in range(n):\n",
        "      tablero[inicio][j]=2\n",
        "    exito = True\n",
        "  # Si se han ubicado todas las reinas en el tablero, calcula sus ataques \n",
        "  # y verifica si es una solución valida\n",
        "  if exito:\n",
        "    marcarAtaques(tablero)\n",
        "    if np.all(tablero):  # Retorna False si hay al menos un cero en el tablero\n",
        "      contadorSoluciones[0] = contadorSoluciones[0] + 1\n",
        "      print(\"Solución número: {0}\".format(contadorSoluciones[0]))\n",
        "      print(\"\\n \")\n",
        "      #if (contadorSoluciones[0] % 10) == 0:\n",
        "      #  print(tablero)\n",
        "      print(tablero)\n",
        "  else:\n",
        "    for i in range(inicio,n):\n",
        "      for j in range(n):\n",
        "        # Cuando se debe colocar la reina en la misma fila que la anterior\n",
        "        if ((j + columnaRA < n-1) and (i == filaRA)):\n",
        "          tablero[i][j+columnaRA+1] = 2 # Ubicar la nueva reina\n",
        "          contadorReinas = contadorReinas+1 # Contar una reina ubicada\n",
        "           # mandar la ubicación de la reina actual para calcular la ubicación de la siguiente\n",
        "          colocarReina(tablero,i,j+columnaRA+1,contadorReinas)\n",
        "          # Desmarcar la reina actual para que en el otro ciclo de los for anidados se pruebe\n",
        "          # con la siguiente posición disponible\n",
        "          tablero[i][(j+columnaRA+1)] = 0  \n",
        "          # descontador la reina desmarcada\n",
        "          contadorReinas = contadorReinas - 1\n",
        "        else:\n",
        "          # Para ubicar la reina en todas las columnas desde la primera con índice 0\n",
        "          # hasta la última, pero en la fila o filas siguientes a la de la reina anterior\n",
        "          if (i>filaRA): \n",
        "            tablero[i][j] = 2 # Ubicar la nueva reina\n",
        "            contadorReinas = contadorReinas+1 # Contar una reina ubicada\n",
        "            # mandar la ubicación de la reina actual para calcular la ubicación de la siguiente\n",
        "            colocarReina(tablero,i,j,contadorReinas) \n",
        "            # Desmarcar la reina actual para que en el otro ciclo de los for anidados se pruebe\n",
        "            # con la siguiente posición disponible\n",
        "            tablero[i][j] = 0\n",
        "            # descontador la reina desmarcada\n",
        "            contadorReinas = contadorReinas-1"
      ],
      "execution_count": 112,
      "outputs": []
    },
    {
      "cell_type": "code",
      "metadata": {
        "id": "X0jBno9QfxpY"
      },
      "source": [
        "# Función ue encuentra todas las soluciones posibles de como ubicar, en un tablero de nxn, n + 1 reinas de tal forma\n",
        "# que todas las casillas del tablero queden atacadas.\n",
        "# En el tablero:\n",
        "# - Un CERO indica que es un espacio libre y NO atacado\n",
        "# - Un UNO indica que es un espacio libreo PERO SÍ esta siendo atacado\n",
        "# - Un DOS indica que es un espacio OCUPADO por una reina\n",
        "\n",
        "def reinasAtacarLibres(dimensionTablero):\n",
        "  tablero = np.zeros((dimensionTablero,dimensionTablero),dtype=np.uint8) #Tablero lleno de ceros\n",
        "  numReinas=dimensionTablero+1\n",
        "  contadorReinas=0\n",
        "  for i in range (tablero.shape[0]-1): ## Nunca se ubica una primera reina en la última fila de la matriz\n",
        "    for j in range (tablero.shape[0]):\n",
        "      tablero[i][j] = 2 # colocar primera reina\n",
        "      contadorReinas = contadorReinas+1\n",
        "      colocarReina(tablero,i,j,contadorReinas)  \n",
        "      tablero[i][j] = 0\n",
        "      contadorReinas=contadorReinas-1"
      ],
      "execution_count": 102,
      "outputs": []
    },
    {
      "cell_type": "code",
      "metadata": {
        "colab": {
          "base_uri": "https://localhost:8080/"
        },
        "id": "Y_HfgPIDGrdV",
        "outputId": "99bbf68d-76ce-4379-80d2-969eaae67b65"
      },
      "source": [
        "dimensionTablero = int(input(\"Ingrese el tamaño del tablero (Ejemplo: '4' para un tablero 4x4)= \\n\"))\n",
        "\n",
        "contadorSoluciones = np.array([0],dtype=np.uint8)\n",
        "contadorSoluciones[0] = 0\n",
        "reinasAtacarLibres(dimensionTablero)"
      ],
      "execution_count": 113,
      "outputs": [
        {
          "output_type": "stream",
          "text": [
            "Ingrese el tamaño del tablero (Ejemplo: '4' para un tablero 4x4)= \n",
            "2\n",
            "Solución número: 1\n",
            "\n",
            " \n",
            "[[2 2]\n",
            " [2 1]]\n",
            "Solución número: 2\n",
            "\n",
            " \n",
            "[[2 2]\n",
            " [1 2]]\n",
            "Solución número: 3\n",
            "\n",
            " \n",
            "[[2 1]\n",
            " [2 2]]\n",
            "Solución número: 4\n",
            "\n",
            " \n",
            "[[1 2]\n",
            " [2 2]]\n"
          ],
          "name": "stdout"
        }
      ]
    },
    {
      "cell_type": "code",
      "metadata": {
        "colab": {
          "base_uri": "https://localhost:8080/"
        },
        "id": "xyp70-t700bZ",
        "outputId": "5a13c59e-99e9-4613-b02e-2757f53aa171"
      },
      "source": [
        " % 10"
      ],
      "execution_count": 111,
      "outputs": [
        {
          "output_type": "execute_result",
          "data": {
            "text/plain": [
              "5"
            ]
          },
          "metadata": {
            "tags": []
          },
          "execution_count": 111
        }
      ]
    },
    {
      "cell_type": "code",
      "metadata": {
        "colab": {
          "base_uri": "https://localhost:8080/"
        },
        "id": "fljap28Q1S3m",
        "outputId": "3154676e-5401-4448-d5d2-43a73cc14193"
      },
      "source": [
        "contadorSoluciones[0] +=2\n",
        "contadorSoluciones[0]"
      ],
      "execution_count": 94,
      "outputs": [
        {
          "output_type": "execute_result",
          "data": {
            "text/plain": [
              "10"
            ]
          },
          "metadata": {
            "tags": []
          },
          "execution_count": 94
        }
      ]
    }
  ]
}